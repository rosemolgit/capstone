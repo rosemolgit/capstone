{
 "cells": [
  {
   "cell_type": "code",
   "execution_count": null,
   "id": "d1e09236-7573-40bc-afdc-ce23ccbb6d94",
   "metadata": {
    "tags": []
   },
   "outputs": [],
   "source": [
    "!pip3 install openpyxl\n",
    "from openpyxl import Workbook\n",
    "import pandas as pd\n",
    "import json\n",
    "import requests\n",
    "api_url=\"http://127.0.0.1:5000/data\"\n",
    "def get_number_of_jobs_T(technology):\n",
    "    number_of_jobs= 0\n",
    "    for tech in technology:\n",
    "        number_of_jobs = number_of_jobs + 1\n",
    "    return technology,number_of_jobs\n",
    "\n",
    "get_number_of_jobs_T(\"Python\")\n",
    "\n",
    "def get_number_of_jobs_L(location):\n",
    "    number_of_jobs= 0\n",
    "    for loc in location:\n",
    "        number_of_jobs = number_of_jobs + 1\n",
    "    return location,number_of_jobs\n",
    "get_number_of_jobs_L(\"Los Angeles\")\n",
    "locations = ['Los Angeles','New York', 'San Francisco', 'Washington DC', 'Seattle', 'Austin', 'Detroit']\n",
    "locations\n",
    "wb=Workbook() \n",
    "ws=wb.active\n",
    "ws\n",
    "loc_list = list()\n",
    "for loc in locations:\n",
    "    jobs = get_number_of_jobs(loc)\n",
    "    loc_list.append(jobs)\n",
    "    \n",
    "ws.append(['locations', 'Job Postings'])\n",
    "[ws.append(i) for i in loc_list]\n",
    "wb.save(\"job-postings.xlsx\")\n",
    "import pandas as pd\n",
    "import os\n",
    "print (os.path.abspath(\"job-postings.xlsx\"))\n",
    "filename=\"job-postings.xlsx\"\n",
    "df=pd.read_excel(\"job-postings.xlsx\")\n",
    "print(df)\n"
   ]
  },
  {
   "cell_type": "code",
   "execution_count": null,
   "id": "e217c030-27da-4105-82c1-eeb82ad07727",
   "metadata": {},
   "outputs": [],
   "source": []
  }
 ],
 "metadata": {
  "kernelspec": {
   "display_name": "Python",
   "language": "python",
   "name": "conda-env-python-py"
  },
  "language_info": {
   "codemirror_mode": {
    "name": "ipython",
    "version": 3
   },
   "file_extension": ".py",
   "mimetype": "text/x-python",
   "name": "python",
   "nbconvert_exporter": "python",
   "pygments_lexer": "ipython3",
   "version": "3.7.12"
  }
 },
 "nbformat": 4,
 "nbformat_minor": 5
}
