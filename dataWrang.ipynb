{
 "cells": [
  {
   "cell_type": "code",
   "execution_count": 9,
   "id": "d3762884-2348-4d0d-b61f-b968f75c1b1c",
   "metadata": {
    "tags": []
   },
   "outputs": [
    {
     "name": "stdout",
     "output_type": "stream",
     "text": [
      "Total number of duplicates:  154\n"
     ]
    },
    {
     "data": {
      "text/plain": [
       "dtype('float64')"
      ]
     },
     "execution_count": 9,
     "metadata": {},
     "output_type": "execute_result"
    }
   ],
   "source": [
    "import pandas as pd\n",
    "df = pd.read_csv(\"https://cf-courses-data.s3.us.cloud-object-storage.appdomain.cloud/IBM-DA0321EN-SkillsNetwork/LargeData/m1_survey_data.csv\")\n",
    "print(\"Total number of duplicates: \", df.duplicated().value_counts()[1])\n",
    "df.drop_duplicates(inplace=True)\n",
    "df.duplicated().value_counts()\n",
    "df.isnull().sum()\n",
    "df[\"WorkLoc\"].isnull().sum()\n",
    "df[\"WorkLoc\"].value_counts()\n",
    "df[\"WorkLoc\"].fillna(\"Office\", inplace=True)\n",
    "df[\"WorkLoc\"].isnull().sum()\n",
    "df[\"CompFreq\"].value_counts()\n",
    "def normalize_func(x):\n",
    "    if x ==\"Yearly\":\n",
    "        return 1\n",
    "    if x == \"Monthly\":\n",
    "        return 12\n",
    "    if x == \"Weekly\":\n",
    "        return 54\n",
    "df[\"CompFreq\"] = df[\"CompFreq\"].apply(normalize_func)\n",
    "df[\"CompFreq\"].dtype"
   ]
  },
  {
   "cell_type": "code",
   "execution_count": null,
   "id": "56e4ff9c-e522-4cb9-8cb3-27dcd5c4edcd",
   "metadata": {},
   "outputs": [],
   "source": []
  }
 ],
 "metadata": {
  "kernelspec": {
   "display_name": "Python",
   "language": "python",
   "name": "conda-env-python-py"
  },
  "language_info": {
   "codemirror_mode": {
    "name": "ipython",
    "version": 3
   },
   "file_extension": ".py",
   "mimetype": "text/x-python",
   "name": "python",
   "nbconvert_exporter": "python",
   "pygments_lexer": "ipython3",
   "version": "3.7.12"
  }
 },
 "nbformat": 4,
 "nbformat_minor": 5
}
